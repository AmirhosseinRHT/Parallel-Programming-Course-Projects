{
  "nbformat": 4,
  "nbformat_minor": 0,
  "metadata": {
    "colab": {
      "provenance": [],
      "gpuType": "T4"
    },
    "kernelspec": {
      "name": "python3",
      "display_name": "Python 3"
    },
    "language_info": {
      "name": "python"
    },
    "accelerator": "GPU"
  },
  "cells": [
    {
      "cell_type": "code",
      "execution_count": 34,
      "metadata": {
        "id": "N54XRsGGcqAx",
        "outputId": "7ed1e417-48ad-4002-b7ad-4677efa3f08c",
        "colab": {
          "base_uri": "https://localhost:8080/"
        }
      },
      "outputs": [
        {
          "output_type": "stream",
          "name": "stdout",
          "text": [
            "Overwriting main.cu\n"
          ]
        }
      ],
      "source": [
        "%%writefile  main.cu\n",
        "#include <iostream>\n",
        "#include <cuda_runtime.h>\n",
        "#include <opencv2/opencv.hpp>\n",
        "#include <chrono>\n",
        "\n",
        "__constant__ int sobel_x_kernel[9] = {\n",
        "    -1, 0, 1,\n",
        "    -2, 0, 2,\n",
        "    -1, 0, 1\n",
        "};\n",
        "\n",
        "__constant__ int sobel_y_kernel[9] = {\n",
        "    -1, -2, -1,\n",
        "     0,  0,  0,\n",
        "     1,  2,  1\n",
        "};\n",
        "\n",
        "__global__ void sobel_filter_kernel(const unsigned char* input, unsigned char* output, int width, int height) {\n",
        "    int x = blockIdx.x * blockDim.x + threadIdx.x;\n",
        "    int y = blockIdx.y * blockDim.y + threadIdx.y;\n",
        "\n",
        "    if (x >= 1 && x < width - 1 && y >= 1 && y < height - 1) {\n",
        "        int gx = 0, gy = 0;\n",
        "        for (int i = -1; i <= 1; i++) {\n",
        "            for (int j = -1; j <= 1; j++) {\n",
        "                int pixel = input[(y + i) * width + (x + j)];\n",
        "                gx += pixel * sobel_x_kernel[(i + 1) * 3 + (j + 1)];\n",
        "                gy += pixel * sobel_y_kernel[(i + 1) * 3 + (j + 1)];\n",
        "            }\n",
        "        }\n",
        "        int magnitude = min(255, static_cast<int>(sqrtf(gx * gx + gy * gy)));\n",
        "        output[y * width + x] = static_cast<unsigned char>(magnitude);\n",
        "    }\n",
        "}\n",
        "\n",
        "void sobel_filter_serial(const unsigned char* input, unsigned char* output, int width, int height) {\n",
        "    for (int y = 1; y < height - 1; y++) {\n",
        "        for (int x = 1; x < width - 1; x++) {\n",
        "            int gx = 0, gy = 0;\n",
        "            for (int i = -1; i <= 1; i++) {\n",
        "                for (int j = -1; j <= 1; j++) {\n",
        "                    int pixel = input[(y + i) * width + (x + j)];\n",
        "                    gx += pixel * sobel_x_kernel[(i + 1) * 3 + (j + 1)];\n",
        "                    gy += pixel * sobel_y_kernel[(i + 1) * 3 + (j + 1)];\n",
        "                }\n",
        "            }\n",
        "            int magnitude = min(255, static_cast<int>(sqrtf(gx * gx + gy * gy)));\n",
        "            output[y * width + x] = static_cast<unsigned char>(magnitude);\n",
        "        }\n",
        "    }\n",
        "}\n",
        "\n",
        "int main(int argc, char *argv[]) {\n",
        "    cv::Mat image = cv::imread(argv[1], cv::IMREAD_GRAYSCALE);\n",
        "    if (image.empty()) {\n",
        "        std::cerr << \"Error: Could not load image!\" << std::endl;\n",
        "        return -1;\n",
        "    }\n",
        "\n",
        "    int width = image.cols;\n",
        "    int height = image.rows;\n",
        "\n",
        "    unsigned char* h_input = image.data;\n",
        "    unsigned char* h_output_serial = new unsigned char[width * height];\n",
        "    unsigned char* h_output_parallel = new unsigned char[width * height];\n",
        "\n",
        "    auto start_serial = std::chrono::high_resolution_clock::now();\n",
        "    sobel_filter_serial(h_input, h_output_serial, width, height);\n",
        "    auto end_serial = std::chrono::high_resolution_clock::now();\n",
        "    std::chrono::duration<double> serial_time = end_serial - start_serial;\n",
        "\n",
        "    unsigned char *d_input, *d_output;\n",
        "    cudaMalloc((void**)&d_input, width * height * sizeof(unsigned char));\n",
        "    cudaMalloc((void**)&d_output, width * height * sizeof(unsigned char));\n",
        "\n",
        "    cudaMemcpy(d_input, h_input, width * height * sizeof(unsigned char), cudaMemcpyHostToDevice);\n",
        "\n",
        "    dim3 blockSize(16, 16);\n",
        "    dim3 gridSize((width + blockSize.x - 1) / blockSize.x, (height + blockSize.y - 1) / blockSize.y);\n",
        "\n",
        "    auto start_parallel = std::chrono::high_resolution_clock::now();\n",
        "    sobel_filter_kernel<<<gridSize, blockSize>>>(d_input, d_output, width, height);\n",
        "    cudaDeviceSynchronize();\n",
        "    auto end_parallel = std::chrono::high_resolution_clock::now();\n",
        "    std::chrono::duration<double> parallel_time = end_parallel - start_parallel;\n",
        "\n",
        "    cudaMemcpy(h_output_parallel, d_output, width * height * sizeof(unsigned char), cudaMemcpyDeviceToHost);\n",
        "\n",
        "    cv::Mat output_serial(height, width, CV_8UC1, h_output_serial);\n",
        "    cv::Mat output_parallel(height, width, CV_8UC1, h_output_parallel);\n",
        "    cv::imwrite(\"Serial.jpg\", output_serial);\n",
        "    cv::imwrite(\"Parallel.jpg\", output_parallel);\n",
        "\n",
        "    cudaFree(d_input);\n",
        "    cudaFree(d_output);\n",
        "    delete[] h_output_serial;\n",
        "    delete[] h_output_parallel;\n",
        "\n",
        "    double speedup = serial_time.count() / parallel_time.count();\n",
        "    double efficiency = speedup / (blockSize.x * blockSize.y);\n",
        "\n",
        "    std::cout << \"Serial Execution Time: \" << serial_time.count() << \" seconds\" << std::endl;\n",
        "    std::cout << \"Parallel Execution Time: \" << parallel_time.count() << \" seconds\" << std::endl;\n",
        "    std::cout << \"Speedup: \" << speedup << std::endl;\n",
        "    std::cout << \"Efficiency: \" << efficiency << std::endl;\n",
        "\n",
        "    return 0;\n",
        "}\n"
      ]
    },
    {
      "cell_type": "code",
      "source": [
        "!nvcc -w main.cu -o main `pkg-config --cflags --libs opencv4`\n",
        "!chmod 755 main"
      ],
      "metadata": {
        "id": "NcX2w844kyGe"
      },
      "execution_count": 35,
      "outputs": []
    },
    {
      "cell_type": "code",
      "source": [
        "!./main img2.jpg"
      ],
      "metadata": {
        "colab": {
          "base_uri": "https://localhost:8080/"
        },
        "id": "WzF8iJceuAbS",
        "outputId": "46fe45a0-2df3-4fb2-ea2f-73c0f68e26d8"
      },
      "execution_count": 36,
      "outputs": [
        {
          "output_type": "stream",
          "name": "stdout",
          "text": [
            "Serial Execution Time: 0.469711 seconds\n",
            "Parallel Execution Time: 0.000852519 seconds\n",
            "Speedup: 550.969\n",
            "Efficiency: 2.15222\n"
          ]
        }
      ]
    }
  ]
}